{
 "cells": [
  {
   "cell_type": "markdown",
   "metadata": {},
   "source": [
    "Gen List"
   ]
  },
  {
   "cell_type": "code",
   "execution_count": 128,
   "metadata": {},
   "outputs": [],
   "source": [
    "import pandas as pd\n",
    "from utilsData import fuelDict\n",
    "\n",
    "df = pd.read_excel('data/Refrence/2023_celt_report.xlsx', skiprows=13, index_col=None, sheet_name='2.1 Generator List')\n",
    "df2 = df[['RESOURCE ID', 'RESOURCE NAME', 'GENERATOR TYPE', 'PRIM FUEL TYPE', 'NAMEPLATE\\n(MW)']]\n",
    "df2.rename(columns={\"NAMEPLATE\\n(MW)\": \"Nameplate Capacity (MW)\", \"PRIM FUEL TYPE\": \"Primary Fuel Type\",\n",
    "                     \"RESOURCE ID\": 'ID', \"RESOURCE NAME\": \"Name\"}, inplace=True)\n",
    "\n",
    "\n",
    "fuels = df2['Primary Fuel Type'].map(fuelDict)\n",
    "fuels = fuels.fillna('Other')\n",
    "df2.insert(3, 'Fuel Type', fuels)"
   ]
  },
  {
   "cell_type": "code",
   "execution_count": 129,
   "metadata": {},
   "outputs": [],
   "source": [
    "# ID_celt = df2[['ID']]\n",
    "# ID_celt.dropna(inplace=True)"
   ]
  },
  {
   "cell_type": "markdown",
   "metadata": {},
   "source": [
    "CSO"
   ]
  },
  {
   "cell_type": "code",
   "execution_count": 130,
   "metadata": {},
   "outputs": [],
   "source": [
    "import pandas as pd\n",
    "import numpy as np\n",
    "from datetime import datetime"
   ]
  },
  {
   "cell_type": "code",
   "execution_count": 131,
   "metadata": {},
   "outputs": [],
   "source": [
    "df = pd.read_excel('data/Refrence/fca_obligations.xlsx', skiprows=0, index_col=None, sheet_name='FCA 14')\n",
    "df = df.drop(['Intermittent', 'DR Type', 'Active/ Passive', 'Interface ID', 'Interface Name', 'Dispatch Zone ID', 'Dispatch Zone Name',\n",
    "              'Lead Participant ID', 'Lead Participant Name', 'De-list Bid Type', 'De-list Bid MW', 'Status', 'Capacity Zone ID', 'Capacity Zone Name', 'Load Zone'], axis=1)\n",
    "new_columns = pd.to_datetime(df.columns[-12:]).strftime('%B')\n",
    "df.columns = df.columns[:-12].tolist() + new_columns.tolist()\n",
    "dftmp = df[df['Type'].isin(['Demand'])]\n",
    "df = df[df['Type'].isin(['Generator'])]\n",
    "df.reset_index(drop=True, inplace=True)"
   ]
  },
  {
   "cell_type": "code",
   "execution_count": 132,
   "metadata": {},
   "outputs": [],
   "source": [
    "selected_columns = ['ID', 'Type', 'FCA Qual', 'June', 'July', 'August', 'September', 'October', 'November', 'December', \n",
    "                                            'January', 'February', 'March', 'April', 'May']\n",
    "\n",
    "dfResult = df2.merge(df[selected_columns].set_index('ID'), on='ID')\n",
    "\n",
    "new_column_order = ['ID', 'Name', 'GENERATOR TYPE' , 'Type', 'Fuel Type', 'Nameplate Capacity (MW)', 'FCA Qual', \n",
    "                    'June', 'July', 'August', 'September', 'October', 'November', 'December',\n",
    "                    'January', 'February', 'March', 'April', 'May']\n",
    "dfResult = dfResult[new_column_order]\n",
    "# dfResult = pd.merge(df2, df[selected_columns], on='ID', how='outer')"
   ]
  },
  {
   "cell_type": "code",
   "execution_count": 133,
   "metadata": {},
   "outputs": [
    {
     "name": "stderr",
     "output_type": "stream",
     "text": [
      "/tmp/ipykernel_31511/3362554122.py:7: FutureWarning: The frame.append method is deprecated and will be removed from pandas in a future version. Use pandas.concat instead.\n",
      "  dfResult = dfResult.append(dftmp, ignore_index=True)\n"
     ]
    }
   ],
   "source": [
    "# To add and fix the demand type\n",
    "for col in dfResult.columns:\n",
    "    if col not in dftmp.columns:\n",
    "        dftmp[col] = np.nan\n",
    "dftmp = dftmp[dfResult.columns]\n",
    "\n",
    "dfResult = dfResult.append(dftmp, ignore_index=True)\n",
    "\n",
    "dfResult.loc[dfResult['Type'] == 'Demand', 'Fuel Type'] = 'Demand'\n",
    "dfResult.loc[dfResult['Type'] == 'Demand', 'Nameplate Capacity (MW)'] = dfResult.loc[dfResult['Type'] == 'Demand', 'FCA Qual']\n",
    "# dfResult.loc[dfResult['Type'] == 'Demand', 'Name'] = dftmp.loc[dftmp['Type'] == 'Demand', 'Name'].values\n",
    "\n"
   ]
  },
  {
   "cell_type": "code",
   "execution_count": 134,
   "metadata": {},
   "outputs": [
    {
     "data": {
      "text/plain": [
       "True"
      ]
     },
     "execution_count": 134,
     "metadata": {},
     "output_type": "execute_result"
    }
   ],
   "source": [
    "indices = (dfResult.iloc[:, 5:6].to_numpy() < dfResult.iloc[:, 6:].to_numpy()).any(axis=1)\n",
    "tmp = dfResult.iloc[indices, 6:].max(axis=1) * 1.05\n",
    "dfResult.iloc[indices, 5] = tmp.to_list()\n",
    "(dfResult.iloc[:, 5:6].to_numpy() >= dfResult.iloc[:, 6:].to_numpy()).all(axis=1).all()"
   ]
  },
  {
   "cell_type": "code",
   "execution_count": 135,
   "metadata": {},
   "outputs": [],
   "source": [
    "dfResult = dfResult.drop_duplicates(subset=['ID'], keep='first')\n",
    "dfResult.to_csv('data/generation.csv', index=False)"
   ]
  }
 ],
 "metadata": {
  "kernelspec": {
   "display_name": "Python 3",
   "language": "python",
   "name": "python3"
  },
  "language_info": {
   "codemirror_mode": {
    "name": "ipython",
    "version": 3
   },
   "file_extension": ".py",
   "mimetype": "text/x-python",
   "name": "python",
   "nbconvert_exporter": "python",
   "pygments_lexer": "ipython3",
   "version": "3.10.12"
  }
 },
 "nbformat": 4,
 "nbformat_minor": 2
}
