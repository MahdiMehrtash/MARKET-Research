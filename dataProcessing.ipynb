{
 "cells": [
  {
   "cell_type": "code",
   "execution_count": 8,
   "metadata": {},
   "outputs": [],
   "source": [
    "import numpy as np\n",
    "import pandas as pd\n",
    "import matplotlib\n",
    "import matplotlib.pyplot as plt\n",
    "\n",
    "from datetime import datetime\n",
    "# from main import getHourlyGen, getHourlyLoad"
   ]
  },
  {
   "cell_type": "code",
   "execution_count": 9,
   "metadata": {},
   "outputs": [],
   "source": [
    "df = pd.read_excel('data/Refrence/fca_obligations.xlsx', skiprows=0, index_col=None, sheet_name='FCA 14')\n",
    "df = df.drop(['Intermittent', 'DR Type', 'Active/ Passive', 'Interface ID', 'Interface Name', 'Dispatch Zone ID', 'Dispatch Zone Name',\n",
    "              'Lead Participant ID', 'Lead Participant Name', 'De-list Bid Type', 'De-list Bid MW', 'Status', 'Capacity Zone ID', 'Capacity Zone Name', 'Load Zone'], axis=1)\n",
    "new_columns = pd.to_datetime(df.columns[-12:]).strftime('%B')\n",
    "df.columns = df.columns[:-12].tolist() + new_columns.tolist()\n",
    "df = df[df['Type'] == 'Generator']\n",
    "df.reset_index(drop=True, inplace=True)\n"
   ]
  },
  {
   "cell_type": "code",
   "execution_count": 10,
   "metadata": {},
   "outputs": [
    {
     "name": "stdout",
     "output_type": "stream",
     "text": [
      "Total Capacity:  38389.70230400001 Number of Generators:  2585\n"
     ]
    }
   ],
   "source": [
    "from utilsData import getISO\n",
    "from utilsData import fuelDict\n",
    "dfISO, numGenerators, totalCap, totalCSO = getISO()"
   ]
  },
  {
   "cell_type": "code",
   "execution_count": 11,
   "metadata": {},
   "outputs": [],
   "source": [
    "# ?FIX THIS\n",
    "def sina(x):\n",
    "    # print(x)\n",
    "    x = x.lower()\n",
    "    if 'water' in x or 'hydro' in x:\n",
    "        return 'Hydro'\n",
    "    elif 'wind' in x:\n",
    "        return 'Wind'\n",
    "    elif 'waste' in x or 'biomass' in x or 'wood' in x:\n",
    "        return 'Waste'\n",
    "    elif 'solar' in x or 'photo' in x:\n",
    "        return 'Solar'\n",
    "    elif 'gas' in x or 'ker' in x:\n",
    "        return 'Gas'\n",
    "    elif 'coal' in x:\n",
    "        return 'Coal'\n",
    "    elif 'oil' in x or 'diesel' in x or 'jet' in x:\n",
    "        return 'Oil'    \n",
    "    elif 'nuclear' in x:\n",
    "        return 'NUC'\n",
    "    else:\n",
    "        return 'Other'\n"
   ]
  },
  {
   "cell_type": "code",
   "execution_count": 17,
   "metadata": {},
   "outputs": [],
   "source": [
    "# np.isin(df['ID'], dfISO['ASSET ID'])"
   ]
  },
  {
   "cell_type": "code",
   "execution_count": 12,
   "metadata": {},
   "outputs": [
    {
     "name": "stderr",
     "output_type": "stream",
     "text": [
      "/tmp/ipykernel_19955/1635398450.py:2: FutureWarning: The default dtype for empty Series will be 'object' instead of 'float64' in a future version. Specify a dtype explicitly to silence this warning.\n",
      "  fuels['Fuel Type'] = pd.Series()\n",
      "/tmp/ipykernel_19955/1635398450.py:2: SettingWithCopyWarning: \n",
      "A value is trying to be set on a copy of a slice from a DataFrame.\n",
      "Try using .loc[row_indexer,col_indexer] = value instead\n",
      "\n",
      "See the caveats in the documentation: https://pandas.pydata.org/pandas-docs/stable/user_guide/indexing.html#returning-a-view-versus-a-copy\n",
      "  fuels['Fuel Type'] = pd.Series()\n",
      "/tmp/ipykernel_19955/1635398450.py:6: SettingWithCopyWarning: \n",
      "A value is trying to be set on a copy of a slice from a DataFrame\n",
      "\n",
      "See the caveats in the documentation: https://pandas.pydata.org/pandas-docs/stable/user_guide/indexing.html#returning-a-view-versus-a-copy\n",
      "  fuels['Fuel Type'][i] = a.to_list()[0]\n",
      "/tmp/ipykernel_19955/1635398450.py:8: SettingWithCopyWarning: \n",
      "A value is trying to be set on a copy of a slice from a DataFrame\n",
      "\n",
      "See the caveats in the documentation: https://pandas.pydata.org/pandas-docs/stable/user_guide/indexing.html#returning-a-view-versus-a-copy\n",
      "  fuels['Fuel Type'][i] = sina(fuels['Generating Fuel Type'][i])\n"
     ]
    }
   ],
   "source": [
    "fuels = df[['ID', 'Generating Fuel Type']]\n",
    "fuels['Fuel Type'] = pd.Series()\n",
    "for i in range(0, len(fuels['Fuel Type'])):\n",
    "     a = dfISO[dfISO['ASSET ID'] == fuels.iloc[i]['ID']]['Fuel Type']\n",
    "     if len(a) > 0:\n",
    "          fuels['Fuel Type'][i] = a.to_list()[0]\n",
    "     else:\n",
    "          fuels['Fuel Type'][i] = sina(fuels['Generating Fuel Type'][i])"
   ]
  },
  {
   "cell_type": "code",
   "execution_count": 19,
   "metadata": {},
   "outputs": [
    {
     "data": {
      "text/plain": [
       "{'Coal', 'Gas', 'Hydro', 'Nuclear', 'Oil', 'Other', 'Solar', 'Waste', 'Wind'}"
      ]
     },
     "execution_count": 19,
     "metadata": {},
     "output_type": "execute_result"
    }
   ],
   "source": [
    "fuels = fuels.fillna('Other')\n",
    "set(fuels['Fuel Type'])"
   ]
  },
  {
   "cell_type": "code",
   "execution_count": 20,
   "metadata": {},
   "outputs": [],
   "source": [
    "df.insert(3, 'Fuel Type', fuels['Fuel Type'])\n",
    "df.to_csv('data/CSO2023.csv', index=False)"
   ]
  },
  {
   "cell_type": "code",
   "execution_count": null,
   "metadata": {},
   "outputs": [],
   "source": []
  }
 ],
 "metadata": {
  "kernelspec": {
   "display_name": "Python 3",
   "language": "python",
   "name": "python3"
  },
  "language_info": {
   "codemirror_mode": {
    "name": "ipython",
    "version": 3
   },
   "file_extension": ".py",
   "mimetype": "text/x-python",
   "name": "python",
   "nbconvert_exporter": "python",
   "pygments_lexer": "ipython3",
   "version": "3.10.12"
  }
 },
 "nbformat": 4,
 "nbformat_minor": 2
}
