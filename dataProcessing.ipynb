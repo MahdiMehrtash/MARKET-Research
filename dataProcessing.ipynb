{
 "cells": [
  {
   "cell_type": "markdown",
   "metadata": {},
   "source": [
    "Gen List"
   ]
  },
  {
   "cell_type": "code",
   "execution_count": 94,
   "metadata": {},
   "outputs": [],
   "source": [
    "import pandas as pd\n",
    "from utilsData import fuelDict\n",
    "\n",
    "df = pd.read_excel('data/Refrence/2023_celt_report.xlsx', skiprows=13, index_col=None, sheet_name='2.1 Generator List')\n",
    "df2 = df[['RESOURCE ID', 'RESOURCE NAME', 'GENERATOR TYPE', 'PRIM FUEL TYPE', 'NAMEPLATE\\n(MW)']]\n",
    "df2.rename(columns={\"NAMEPLATE\\n(MW)\": \"Nameplate Capacity (MW)\", \"PRIM FUEL TYPE\": \"Primary Fuel Type\", \"RESOURCE ID\": 'ID'}, inplace=True)\n",
    "\n",
    "\n",
    "fuels = df2['Primary Fuel Type'].map(fuelDict)\n",
    "# To add Pump Storage\n",
    "# if True:\n",
    "#     fuels.loc[(df2['Primary Fuel Type'] == 'WAT') & (df2['GENERATOR TYPE'] == 'HYDRO: PUMPED STORAGE')] = 'PS'\n",
    "\n",
    "fuels = fuels.fillna('Other')\n",
    "df2.insert(3, 'Fuel Type', fuels)"
   ]
  },
  {
   "cell_type": "code",
   "execution_count": 95,
   "metadata": {},
   "outputs": [],
   "source": [
    "ID_celt = df2[['ID']]\n",
    "ID_celt.dropna(inplace=True)"
   ]
  },
  {
   "cell_type": "markdown",
   "metadata": {},
   "source": [
    "CSO"
   ]
  },
  {
   "cell_type": "code",
   "execution_count": 96,
   "metadata": {},
   "outputs": [],
   "source": [
    "import pandas as pd\n",
    "from datetime import datetime"
   ]
  },
  {
   "cell_type": "code",
   "execution_count": 97,
   "metadata": {},
   "outputs": [],
   "source": [
    "df = pd.read_excel('data/Refrence/fca_obligations.xlsx', skiprows=0, index_col=None, sheet_name='FCA 14')\n",
    "df = df.drop(['Intermittent', 'DR Type', 'Active/ Passive', 'Interface ID', 'Interface Name', 'Dispatch Zone ID', 'Dispatch Zone Name',\n",
    "              'Lead Participant ID', 'Lead Participant Name', 'De-list Bid Type', 'De-list Bid MW', 'Status', 'Capacity Zone ID', 'Capacity Zone Name', 'Load Zone'], axis=1)\n",
    "new_columns = pd.to_datetime(df.columns[-12:]).strftime('%B')\n",
    "df.columns = df.columns[:-12].tolist() + new_columns.tolist()\n",
    "df = df[df['Type'] == 'Generator']\n",
    "df.reset_index(drop=True, inplace=True)\n"
   ]
  },
  {
   "cell_type": "code",
   "execution_count": 98,
   "metadata": {},
   "outputs": [],
   "source": [
    "df = df2.merge(df[['ID', 'June', 'July', 'August', 'September', 'October', 'November', 'December', 'January', 'February', 'March', 'April', 'May']] , on=['ID'])"
   ]
  },
  {
   "cell_type": "code",
   "execution_count": 113,
   "metadata": {},
   "outputs": [
    {
     "data": {
      "text/plain": [
       "True"
      ]
     },
     "execution_count": 113,
     "metadata": {},
     "output_type": "execute_result"
    }
   ],
   "source": [
    "indices = (df.iloc[:, 5:6].to_numpy() < df.iloc[:, 6:].to_numpy()).any(axis=1)\n",
    "tmp = df.iloc[indices, 6:].max(axis=1) * 1.05\n",
    "df.iloc[indices, 5] = tmp.to_list()\n",
    "(df.iloc[:, 5:6].to_numpy() >= df.iloc[:, 6:].to_numpy()).all(axis=1).all()"
   ]
  },
  {
   "cell_type": "code",
   "execution_count": 114,
   "metadata": {},
   "outputs": [],
   "source": [
    "df = df.drop_duplicates(subset=['ID'], keep='first')"
   ]
  },
  {
   "cell_type": "code",
   "execution_count": 115,
   "metadata": {},
   "outputs": [],
   "source": [
    "df.to_csv('data/generation.csv', index=False)"
   ]
  },
  {
   "cell_type": "code",
   "execution_count": 19,
   "metadata": {},
   "outputs": [],
   "source": [
    "# from utilsData import getISO\n",
    "# from utilsData import fuelDict\n",
    "# dfISO, numGenerators, totalCap, totalCSO = getISO()"
   ]
  },
  {
   "cell_type": "code",
   "execution_count": 20,
   "metadata": {},
   "outputs": [],
   "source": [
    "# def map(x):\n",
    "#     # if 'biomass' in x:\n",
    "#     #     print(x.lower())\n",
    "#     x = x.lower()\n",
    "#     if 'water' in x or 'hydro' in x:\n",
    "#         return 'Hydro'\n",
    "    \n",
    "#     elif 'wind' in x:\n",
    "#         return 'Wind'\n",
    "    \n",
    "#     elif 'waste' in x or 'wood' in x:\n",
    "#         return 'Refuse/Woods'\n",
    "    \n",
    "#     elif 'solar' in x or 'photo' in x:\n",
    "#         return 'Solar'\n",
    "    \n",
    "#     elif 'landfill gas' in x:\n",
    "#         return 'Landfill Gas'\n",
    "    \n",
    "#     elif 'biomass gas' in x or 'methane' in x:\n",
    "#         return 'Gas-Other'\n",
    "    \n",
    "#     elif 'gas' in x or 'ker' in x:\n",
    "#         return 'Gas'\n",
    "    \n",
    "#     elif 'coal' in x:\n",
    "#         return 'Coal'\n",
    "    \n",
    "#     elif 'oil' in x or 'diesel' in x or 'jet' in x:\n",
    "#         return 'Oil'    \n",
    "    \n",
    "#     elif 'nuclear' in x:\n",
    "#         return 'NUC'\n",
    "    \n",
    "#     elif 'storage' in x:\n",
    "#         return 'ES'\n",
    "    \n",
    "#     else:\n",
    "#         return 'Other'\n"
   ]
  },
  {
   "cell_type": "code",
   "execution_count": 21,
   "metadata": {},
   "outputs": [],
   "source": [
    "# np.isin(df['ID'], dfISO['ASSET ID'])"
   ]
  },
  {
   "cell_type": "code",
   "execution_count": 22,
   "metadata": {},
   "outputs": [],
   "source": [
    "# fuels = df[['ID', 'Generating Fuel Type']]\n",
    "# fuels['Fuel Type'] = pd.Series()\n",
    "# for i in range(0, len(fuels['Fuel Type'])):\n",
    "#      a = dfISO[dfISO['ASSET ID'] == fuels.iloc[i]['ID']]['Fuel Type']\n",
    "#      if len(a) > 0:\n",
    "#           fuels['Fuel Type'][i] = a.to_list()[0]\n",
    "#      else:\n",
    "#           fuels['Fuel Type'][i] = map(fuels['Generating Fuel Type'][i])"
   ]
  },
  {
   "cell_type": "code",
   "execution_count": 23,
   "metadata": {},
   "outputs": [],
   "source": [
    "# fuels = fuels.fillna('Other')\n",
    "# set(fuels['Fuel Type'])"
   ]
  },
  {
   "cell_type": "code",
   "execution_count": 24,
   "metadata": {},
   "outputs": [],
   "source": [
    "# df.insert(3, 'Fuel Type', fuels['Fuel Type'])\n",
    "# df.to_csv('data/gen.csv', index=False)"
   ]
  },
  {
   "cell_type": "code",
   "execution_count": null,
   "metadata": {},
   "outputs": [],
   "source": []
  }
 ],
 "metadata": {
  "kernelspec": {
   "display_name": "Python 3",
   "language": "python",
   "name": "python3"
  },
  "language_info": {
   "codemirror_mode": {
    "name": "ipython",
    "version": 3
   },
   "file_extension": ".py",
   "mimetype": "text/x-python",
   "name": "python",
   "nbconvert_exporter": "python",
   "pygments_lexer": "ipython3",
   "version": "3.10.12"
  }
 },
 "nbformat": 4,
 "nbformat_minor": 2
}
